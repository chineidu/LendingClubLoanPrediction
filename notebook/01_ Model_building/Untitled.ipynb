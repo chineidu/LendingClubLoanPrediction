{
 "cells": [
  {
   "cell_type": "code",
   "execution_count": 1,
   "id": "a74495cc-2c90-4f5b-8092-2e258c6d31a8",
   "metadata": {},
   "outputs": [],
   "source": [
    "from pathlib import Path\n",
    "import typing as tp\n",
    "\n",
    "from pydantic import BaseModel\n",
    "from strictyaml import YAML, load"
   ]
  },
  {
   "cell_type": "code",
   "execution_count": 5,
   "id": "343c9659-af9d-4dc0-b9cb-4d4c2a7da5ea",
   "metadata": {},
   "outputs": [
    {
     "data": {
      "text/plain": [
       "PosixPath('/Users/neidu/Desktop/Projects/Personal/tutorials/LendingClub Issued Loans/01_ Model_building')"
      ]
     },
     "execution_count": 5,
     "metadata": {},
     "output_type": "execute_result"
    }
   ],
   "source": [
    "Path(__name__).resolve().parent"
   ]
  },
  {
   "cell_type": "code",
   "execution_count": null,
   "id": "daa67684-13a5-415e-9dd6-446c2e17d7fa",
   "metadata": {},
   "outputs": [],
   "source": []
  },
  {
   "cell_type": "code",
   "execution_count": null,
   "id": "977636d3-8204-426c-be99-397ba7be8124",
   "metadata": {},
   "outputs": [],
   "source": []
  },
  {
   "cell_type": "code",
   "execution_count": null,
   "id": "871ae42c-515d-44af-9805-c23262eac8c2",
   "metadata": {},
   "outputs": [],
   "source": []
  },
  {
   "cell_type": "code",
   "execution_count": null,
   "id": "44c8b22c-2b4e-49ad-8dec-c49261d61277",
   "metadata": {},
   "outputs": [],
   "source": []
  }
 ],
 "metadata": {
  "kernelspec": {
   "display_name": "test_env_p310",
   "language": "python",
   "name": "test_env_p310"
  },
  "language_info": {
   "codemirror_mode": {
    "name": "ipython",
    "version": 3
   },
   "file_extension": ".py",
   "mimetype": "text/x-python",
   "name": "python",
   "nbconvert_exporter": "python",
   "pygments_lexer": "ipython3",
   "version": "3.10.8"
  }
 },
 "nbformat": 4,
 "nbformat_minor": 5
}
